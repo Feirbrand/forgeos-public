{
 "cells": [
  {
   "cell_type": "markdown",
   "metadata": {},
   "source": [
    "# Anchor Validation for TTL Checking\n",
    "\n",
    "This notebook demonstrates a pandas-based approach to validate data 'anchors' against their Time-To-Live (TTL)."
   ]
  },
  {
   "cell_type": "markdown",
   "metadata": {},
   "source": [
    "## 1. Setup\n",
    "\n",
    "Import the necessary libraries (`pandas` and `datetime`)."
   ]
  },
  {
   "cell_type": "code",
   "execution_count": null,
   "metadata": {},
   "outputs": [],
   "source": [
    "import pandas as pd\n",
    "from datetime import datetime, timedelta"
   ]
  },
  {
   "cell_type": "markdown",
   "metadata": {},
   "source": [
    "## 2. Create Sample Anchor Data\n",
    "\n",
    "We'll create a dummy DataFrame to represent our anchors. Each anchor has:\n",
    "- `anchor_id`: A unique identifier.\n",
    "- `creation_timestamp`: The time the anchor was created.\n",
    "- `ttl_seconds`: The number of seconds the anchor is considered valid."
   ]
  },
  {
   "cell_type": "code",
   "execution_count": null,
   "metadata": {},
   "outputs": [],
   "source": [
    "data = {\n",
    "    'anchor_id': ['A001', 'A002', 'A003', 'A004', 'A005'],\n",
    "    'creation_timestamp': [\n",
    "        datetime.now() - timedelta(minutes=10),\n",
    "        datetime.now() - timedelta(seconds=30),\n",
    "        datetime.now() - timedelta(hours=1),\n",
    "        datetime.now() - timedelta(days=1),\n",
    "        datetime.now() - timedelta(seconds=5)\n",
    "    ],\n",
    "    'ttl_seconds': [600, 60, 300, 90000, 10]\n",
    "}\n",
    "\n",
    "anchors_df = pd.DataFrame(data)\n",
    "print(\"Sample Anchor Data:\")\n",
    "anchors_df"
   ]
  },
  {
   "cell_type": "markdown",
   "metadata": {},
   "source": [
    "## 3. Perform TTL Validation\n",
    "\n",
    "Now, we'll calculate the expiration time for each anchor and check if it has passed."
   ]
  },
  {
   "cell_type": "code",
   "execution_count": null,
   "metadata": {},
   "outputs": [],
   "source": [
    "# Calculate expiration timestamp\n",
    "anchors_df['expiration_timestamp'] = anchors_df.apply(\n",
    "    lambda row: row['creation_timestamp'] + timedelta(seconds=row['ttl_seconds']),\n",
    "    axis=1\n",
    "    )\n",
    "\n",
    "# Check if expired\n",
    "current_time = datetime.now()\n",
    "anchors_df['is_expired'] = anchors_df['expiration_timestamp'] < current_time\n",
    "\n",
    "print(f\"Validation performed at: {current_time}\")\n",
    "print(\"\nValidation Results:\")\n",
    "anchors_df"
   ]
  },
  {
   "cell_type": "markdown",
   "metadata": {},
   "source": [
    "## 4. Report on Expired Anchors\n",
    "\n",
    "Finally, let's filter and display only the anchors that have expired."
   ]
  },
  {
   "cell_type": "code",
   "execution_count": null,
   "metadata": {},
   "outputs": [],
   "source": [
    "expired_anchors = anchors_df[anchors_df['is_expired'] == True]\n",
    "\n",
    "if not expired_anchors.empty:\n",
    "    print(\"The following anchors have expired:\")\n",
    "    print(expired_anchors)\n",
    "else:\n",
    "    print(\"No anchors have expired.\")"
   ]
  }
 ],
 "metadata": {
  "kernelspec": {
   "display_name": "Python 3",
   "language": "python",
   "name": "python3"
  },
  "language_info": {
   "codemirror_mode": {
    "name": "ipython",
    "version": 3
   },
   "file_extension": ".py",
   "mimetype": "text/x-python",
   "name": "python",
   "nbconvert_exporter": "python",
   "pygments_lexer": "ipython3",
   "version": "3.9.7"
  }
 },
 "nbformat": 4,
 "nbformat_minor": 4
}
